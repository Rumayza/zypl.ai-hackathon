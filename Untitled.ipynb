{
 "cells": [
  {
   "cell_type": "code",
   "execution_count": 408,
   "id": "e8a67603",
   "metadata": {},
   "outputs": [],
   "source": [
    "import pandas as pd\n",
    "from scipy.sparse import csr_matrix\n",
    "from sklearn.neighbors import NearestNeighbors\n",
    "import seaborn as sns\n",
    "import numpy as nm  "
   ]
  },
  {
   "cell_type": "code",
   "execution_count": 409,
   "id": "0fb630cf",
   "metadata": {},
   "outputs": [],
   "source": [
    "interactions = pd.read_csv('interactions.csv')\n",
    "users = pd.read_csv('users.csv')\n",
    "samsub = pd.read_csv('sample_submission.csv')\n",
    "items = pd.read_csv('items.csv')"
   ]
  },
  {
   "cell_type": "code",
   "execution_count": 410,
   "id": "4bbcec74",
   "metadata": {},
   "outputs": [],
   "source": [
    "items['content_type'] = items['content_type'].replace({'film':0, 'series':1})\n",
    "\n",
    "items = items.drop(['title'], axis = 1)\n",
    "items = items.drop(['title_orig'], axis = 1)\n",
    "items = items.drop(['directors'], axis = 1)\n",
    "items = items.drop(['actors'], axis = 1)\n",
    "items = items.drop(['description'], axis = 1)\n",
    "items = items.drop(['keywords'], axis = 1)\n",
    "items = items.drop(['genres'], axis = 1)\n",
    "items = items.drop(['countries'], axis = 1)\n",
    "items = items.drop(['for_kids'], axis = 1)\n",
    "items = items.drop(['studios'], axis = 1)\n",
    "interactions = interactions.drop(['last_watch_dt'], axis = 1)"
   ]
  },
  {
   "cell_type": "code",
   "execution_count": 411,
   "id": "879b959a",
   "metadata": {},
   "outputs": [],
   "source": [
    "interactions = interactions.merge(items, on='item_id', how='left')\n",
    "interactions = interactions.merge(users, on='user_id', how='left')\n",
    "\n",
    "interactions = interactions.dropna()  "
   ]
  },
  {
   "cell_type": "code",
   "execution_count": 412,
   "id": "f2639301",
   "metadata": {},
   "outputs": [],
   "source": [
    "age_dummies = pd.get_dummies(interactions['age']).astype(int)\n",
    "income_dummies = pd.get_dummies(interactions['income']).astype(int)\n",
    "sex_dummies = pd.get_dummies(interactions['sex']).astype(int)\n",
    "\n",
    "interactions = pd.concat([interactions, age_dummies], axis=1)\n",
    "interactions = pd.concat([interactions, income_dummies], axis=1)\n",
    "interactions = pd.concat([interactions, sex_dummies], axis=1)\n",
    "\n",
    "interactions = interactions.drop(['age'], axis = 1)\n",
    "interactions = interactions.drop(['income'], axis = 1)\n",
    "interactions = interactions.drop(['sex'], axis = 1)"
   ]
  },
  {
   "cell_type": "code",
   "execution_count": 413,
   "id": "25059b25",
   "metadata": {},
   "outputs": [],
   "source": [
    "interactions = interactions.dropna()"
   ]
  },
  {
   "cell_type": "code",
   "execution_count": 414,
   "id": "89bd56f6",
   "metadata": {},
   "outputs": [],
   "source": [
    "sample_size = int(0.002 * len(interactions))  # 20% sample (adjust percentage)\n",
    "sample_interactions = interactions.sample(sample_size, random_state=42)  # Set random_state for reproducibility"
   ]
  },
  {
   "cell_type": "code",
   "execution_count": 415,
   "id": "351c8b08",
   "metadata": {},
   "outputs": [
    {
     "data": {
      "text/html": [
       "<div>\n",
       "<style scoped>\n",
       "    .dataframe tbody tr th:only-of-type {\n",
       "        vertical-align: middle;\n",
       "    }\n",
       "\n",
       "    .dataframe tbody tr th {\n",
       "        vertical-align: top;\n",
       "    }\n",
       "\n",
       "    .dataframe thead th {\n",
       "        text-align: right;\n",
       "    }\n",
       "</style>\n",
       "<table border=\"1\" class=\"dataframe\">\n",
       "  <thead>\n",
       "    <tr style=\"text-align: right;\">\n",
       "      <th></th>\n",
       "      <th>user_id</th>\n",
       "      <th>item_id</th>\n",
       "      <th>total_dur</th>\n",
       "      <th>watched_pct</th>\n",
       "      <th>content_type</th>\n",
       "      <th>release_year</th>\n",
       "      <th>age_rating</th>\n",
       "      <th>kids_flg</th>\n",
       "      <th>age_18_24</th>\n",
       "      <th>age_25_34</th>\n",
       "      <th>...</th>\n",
       "      <th>age_55_64</th>\n",
       "      <th>age_65_inf</th>\n",
       "      <th>income_0_20</th>\n",
       "      <th>income_150_inf</th>\n",
       "      <th>income_20_40</th>\n",
       "      <th>income_40_60</th>\n",
       "      <th>income_60_90</th>\n",
       "      <th>income_90_150</th>\n",
       "      <th>Ж</th>\n",
       "      <th>М</th>\n",
       "    </tr>\n",
       "  </thead>\n",
       "  <tbody>\n",
       "    <tr>\n",
       "      <th>0</th>\n",
       "      <td>176549</td>\n",
       "      <td>9506</td>\n",
       "      <td>4250</td>\n",
       "      <td>72.0</td>\n",
       "      <td>0</td>\n",
       "      <td>2013.0</td>\n",
       "      <td>0.0</td>\n",
       "      <td>0.0</td>\n",
       "      <td>0</td>\n",
       "      <td>0</td>\n",
       "      <td>...</td>\n",
       "      <td>0</td>\n",
       "      <td>0</td>\n",
       "      <td>0</td>\n",
       "      <td>0</td>\n",
       "      <td>0</td>\n",
       "      <td>1</td>\n",
       "      <td>0</td>\n",
       "      <td>0</td>\n",
       "      <td>0</td>\n",
       "      <td>1</td>\n",
       "    </tr>\n",
       "    <tr>\n",
       "      <th>1</th>\n",
       "      <td>699317</td>\n",
       "      <td>1659</td>\n",
       "      <td>8317</td>\n",
       "      <td>100.0</td>\n",
       "      <td>0</td>\n",
       "      <td>2014.0</td>\n",
       "      <td>6.0</td>\n",
       "      <td>0.0</td>\n",
       "      <td>0</td>\n",
       "      <td>0</td>\n",
       "      <td>...</td>\n",
       "      <td>0</td>\n",
       "      <td>0</td>\n",
       "      <td>0</td>\n",
       "      <td>0</td>\n",
       "      <td>0</td>\n",
       "      <td>1</td>\n",
       "      <td>0</td>\n",
       "      <td>0</td>\n",
       "      <td>0</td>\n",
       "      <td>1</td>\n",
       "    </tr>\n",
       "    <tr>\n",
       "      <th>2</th>\n",
       "      <td>656683</td>\n",
       "      <td>7107</td>\n",
       "      <td>10</td>\n",
       "      <td>0.0</td>\n",
       "      <td>1</td>\n",
       "      <td>2021.0</td>\n",
       "      <td>12.0</td>\n",
       "      <td>0.0</td>\n",
       "      <td>0</td>\n",
       "      <td>1</td>\n",
       "      <td>...</td>\n",
       "      <td>0</td>\n",
       "      <td>0</td>\n",
       "      <td>0</td>\n",
       "      <td>0</td>\n",
       "      <td>0</td>\n",
       "      <td>0</td>\n",
       "      <td>1</td>\n",
       "      <td>0</td>\n",
       "      <td>0</td>\n",
       "      <td>1</td>\n",
       "    </tr>\n",
       "    <tr>\n",
       "      <th>3</th>\n",
       "      <td>864613</td>\n",
       "      <td>7638</td>\n",
       "      <td>14483</td>\n",
       "      <td>100.0</td>\n",
       "      <td>1</td>\n",
       "      <td>2018.0</td>\n",
       "      <td>12.0</td>\n",
       "      <td>0.0</td>\n",
       "      <td>0</td>\n",
       "      <td>0</td>\n",
       "      <td>...</td>\n",
       "      <td>0</td>\n",
       "      <td>1</td>\n",
       "      <td>0</td>\n",
       "      <td>0</td>\n",
       "      <td>1</td>\n",
       "      <td>0</td>\n",
       "      <td>0</td>\n",
       "      <td>0</td>\n",
       "      <td>1</td>\n",
       "      <td>0</td>\n",
       "    </tr>\n",
       "    <tr>\n",
       "      <th>4</th>\n",
       "      <td>964868</td>\n",
       "      <td>9506</td>\n",
       "      <td>6725</td>\n",
       "      <td>100.0</td>\n",
       "      <td>0</td>\n",
       "      <td>2013.0</td>\n",
       "      <td>0.0</td>\n",
       "      <td>0.0</td>\n",
       "      <td>0</td>\n",
       "      <td>1</td>\n",
       "      <td>...</td>\n",
       "      <td>0</td>\n",
       "      <td>0</td>\n",
       "      <td>0</td>\n",
       "      <td>0</td>\n",
       "      <td>1</td>\n",
       "      <td>0</td>\n",
       "      <td>0</td>\n",
       "      <td>0</td>\n",
       "      <td>1</td>\n",
       "      <td>0</td>\n",
       "    </tr>\n",
       "  </tbody>\n",
       "</table>\n",
       "<p>5 rows × 22 columns</p>\n",
       "</div>"
      ],
      "text/plain": [
       "   user_id  item_id  total_dur  watched_pct  content_type  release_year  \\\n",
       "0   176549     9506       4250         72.0             0        2013.0   \n",
       "1   699317     1659       8317        100.0             0        2014.0   \n",
       "2   656683     7107         10          0.0             1        2021.0   \n",
       "3   864613     7638      14483        100.0             1        2018.0   \n",
       "4   964868     9506       6725        100.0             0        2013.0   \n",
       "\n",
       "   age_rating  kids_flg  age_18_24  age_25_34  ...  age_55_64  age_65_inf  \\\n",
       "0         0.0       0.0          0          0  ...          0           0   \n",
       "1         6.0       0.0          0          0  ...          0           0   \n",
       "2        12.0       0.0          0          1  ...          0           0   \n",
       "3        12.0       0.0          0          0  ...          0           1   \n",
       "4         0.0       0.0          0          1  ...          0           0   \n",
       "\n",
       "   income_0_20  income_150_inf  income_20_40  income_40_60  income_60_90  \\\n",
       "0            0               0             0             1             0   \n",
       "1            0               0             0             1             0   \n",
       "2            0               0             0             0             1   \n",
       "3            0               0             1             0             0   \n",
       "4            0               0             1             0             0   \n",
       "\n",
       "   income_90_150  Ж  М  \n",
       "0              0  0  1  \n",
       "1              0  0  1  \n",
       "2              0  0  1  \n",
       "3              0  1  0  \n",
       "4              0  1  0  \n",
       "\n",
       "[5 rows x 22 columns]"
      ]
     },
     "execution_count": 415,
     "metadata": {},
     "output_type": "execute_result"
    }
   ],
   "source": [
    "interactions.head()"
   ]
  },
  {
   "cell_type": "code",
   "execution_count": 416,
   "id": "3aaedffe",
   "metadata": {},
   "outputs": [],
   "source": [
    "X= sample_interactions.drop(['item_id'], axis = 1)\n",
    "y= sample_interactions['item_id']"
   ]
  },
  {
   "cell_type": "code",
   "execution_count": 417,
   "id": "4335390f",
   "metadata": {},
   "outputs": [],
   "source": [
    "from sklearn.model_selection import train_test_split  \n",
    "X_train, X_test, y_train, y_test= train_test_split(X, y, test_size= 0.25, random_state=0)  "
   ]
  },
  {
   "cell_type": "code",
   "execution_count": 418,
   "id": "dcb0c4c2",
   "metadata": {},
   "outputs": [],
   "source": [
    "from sklearn.preprocessing import StandardScaler    \n",
    "st_x= StandardScaler()    \n",
    "X_train= st_x.fit_transform(X_train)    \n",
    "X_test= st_x.transform(X_test)  "
   ]
  },
  {
   "cell_type": "code",
   "execution_count": 419,
   "id": "df4d9dfd",
   "metadata": {},
   "outputs": [
    {
     "data": {
      "text/html": [
       "<style>#sk-container-id-5 {color: black;}#sk-container-id-5 pre{padding: 0;}#sk-container-id-5 div.sk-toggleable {background-color: white;}#sk-container-id-5 label.sk-toggleable__label {cursor: pointer;display: block;width: 100%;margin-bottom: 0;padding: 0.3em;box-sizing: border-box;text-align: center;}#sk-container-id-5 label.sk-toggleable__label-arrow:before {content: \"▸\";float: left;margin-right: 0.25em;color: #696969;}#sk-container-id-5 label.sk-toggleable__label-arrow:hover:before {color: black;}#sk-container-id-5 div.sk-estimator:hover label.sk-toggleable__label-arrow:before {color: black;}#sk-container-id-5 div.sk-toggleable__content {max-height: 0;max-width: 0;overflow: hidden;text-align: left;background-color: #f0f8ff;}#sk-container-id-5 div.sk-toggleable__content pre {margin: 0.2em;color: black;border-radius: 0.25em;background-color: #f0f8ff;}#sk-container-id-5 input.sk-toggleable__control:checked~div.sk-toggleable__content {max-height: 200px;max-width: 100%;overflow: auto;}#sk-container-id-5 input.sk-toggleable__control:checked~label.sk-toggleable__label-arrow:before {content: \"▾\";}#sk-container-id-5 div.sk-estimator input.sk-toggleable__control:checked~label.sk-toggleable__label {background-color: #d4ebff;}#sk-container-id-5 div.sk-label input.sk-toggleable__control:checked~label.sk-toggleable__label {background-color: #d4ebff;}#sk-container-id-5 input.sk-hidden--visually {border: 0;clip: rect(1px 1px 1px 1px);clip: rect(1px, 1px, 1px, 1px);height: 1px;margin: -1px;overflow: hidden;padding: 0;position: absolute;width: 1px;}#sk-container-id-5 div.sk-estimator {font-family: monospace;background-color: #f0f8ff;border: 1px dotted black;border-radius: 0.25em;box-sizing: border-box;margin-bottom: 0.5em;}#sk-container-id-5 div.sk-estimator:hover {background-color: #d4ebff;}#sk-container-id-5 div.sk-parallel-item::after {content: \"\";width: 100%;border-bottom: 1px solid gray;flex-grow: 1;}#sk-container-id-5 div.sk-label:hover label.sk-toggleable__label {background-color: #d4ebff;}#sk-container-id-5 div.sk-serial::before {content: \"\";position: absolute;border-left: 1px solid gray;box-sizing: border-box;top: 0;bottom: 0;left: 50%;z-index: 0;}#sk-container-id-5 div.sk-serial {display: flex;flex-direction: column;align-items: center;background-color: white;padding-right: 0.2em;padding-left: 0.2em;position: relative;}#sk-container-id-5 div.sk-item {position: relative;z-index: 1;}#sk-container-id-5 div.sk-parallel {display: flex;align-items: stretch;justify-content: center;background-color: white;position: relative;}#sk-container-id-5 div.sk-item::before, #sk-container-id-5 div.sk-parallel-item::before {content: \"\";position: absolute;border-left: 1px solid gray;box-sizing: border-box;top: 0;bottom: 0;left: 50%;z-index: -1;}#sk-container-id-5 div.sk-parallel-item {display: flex;flex-direction: column;z-index: 1;position: relative;background-color: white;}#sk-container-id-5 div.sk-parallel-item:first-child::after {align-self: flex-end;width: 50%;}#sk-container-id-5 div.sk-parallel-item:last-child::after {align-self: flex-start;width: 50%;}#sk-container-id-5 div.sk-parallel-item:only-child::after {width: 0;}#sk-container-id-5 div.sk-dashed-wrapped {border: 1px dashed gray;margin: 0 0.4em 0.5em 0.4em;box-sizing: border-box;padding-bottom: 0.4em;background-color: white;}#sk-container-id-5 div.sk-label label {font-family: monospace;font-weight: bold;display: inline-block;line-height: 1.2em;}#sk-container-id-5 div.sk-label-container {text-align: center;}#sk-container-id-5 div.sk-container {/* jupyter's `normalize.less` sets `[hidden] { display: none; }` but bootstrap.min.css set `[hidden] { display: none !important; }` so we also need the `!important` here to be able to override the default hidden behavior on the sphinx rendered scikit-learn.org. See: https://github.com/scikit-learn/scikit-learn/issues/21755 */display: inline-block !important;position: relative;}#sk-container-id-5 div.sk-text-repr-fallback {display: none;}</style><div id=\"sk-container-id-5\" class=\"sk-top-container\"><div class=\"sk-text-repr-fallback\"><pre>KNeighborsClassifier(algorithm=&#x27;brute&#x27;, metric=&#x27;cosine&#x27;, n_jobs=-1,\n",
       "                     n_neighbors=20)</pre><b>In a Jupyter environment, please rerun this cell to show the HTML representation or trust the notebook. <br />On GitHub, the HTML representation is unable to render, please try loading this page with nbviewer.org.</b></div><div class=\"sk-container\" hidden><div class=\"sk-item\"><div class=\"sk-estimator sk-toggleable\"><input class=\"sk-toggleable__control sk-hidden--visually\" id=\"sk-estimator-id-5\" type=\"checkbox\" checked><label for=\"sk-estimator-id-5\" class=\"sk-toggleable__label sk-toggleable__label-arrow\">KNeighborsClassifier</label><div class=\"sk-toggleable__content\"><pre>KNeighborsClassifier(algorithm=&#x27;brute&#x27;, metric=&#x27;cosine&#x27;, n_jobs=-1,\n",
       "                     n_neighbors=20)</pre></div></div></div></div></div>"
      ],
      "text/plain": [
       "KNeighborsClassifier(algorithm='brute', metric='cosine', n_jobs=-1,\n",
       "                     n_neighbors=20)"
      ]
     },
     "execution_count": 419,
     "metadata": {},
     "output_type": "execute_result"
    }
   ],
   "source": [
    "from sklearn.neighbors import KNeighborsClassifier  \n",
    "classifier= KNeighborsClassifier(n_neighbors=20, algorithm = 'brute', metric='cosine', p=2, n_jobs = -1)  \n",
    "classifier.fit(X_train, y_train)"
   ]
  },
  {
   "cell_type": "code",
   "execution_count": 420,
   "id": "d4bef0d5",
   "metadata": {},
   "outputs": [],
   "source": [
    "y_pred= classifier.predict(X_test)  "
   ]
  },
  {
   "cell_type": "code",
   "execution_count": 421,
   "id": "fef77009",
   "metadata": {},
   "outputs": [],
   "source": [
    "from sklearn.metrics import confusion_matrix  \n",
    "cm= confusion_matrix(y_test, y_pred)"
   ]
  },
  {
   "cell_type": "code",
   "execution_count": null,
   "id": "d9fd709b",
   "metadata": {},
   "outputs": [],
   "source": [
    "interactions_knn = interactions.copy()\n",
    "\n",
    "# Feature scaling for improved neighbor search (optional, adjust based on your data)\n",
    "scaler = StandardScaler()\n",
    "interactions_knn_scaled = pd.DataFrame(scaler.fit_transform(interactions_knn.drop('user_id', axis=1)),\n",
    "                                      columns=interactions_knn.columns[1:])\n",
    "\n",
    "# Create Nearest Neighbors model\n",
    "knn = NearestNeighbors(n_neighbors=11, algorithm='brute', metric='cosine')  # 10 neighbors + user itself\n",
    "knn.fit(interactions_knn_scaled)\n",
    "\n",
    "\n",
    "# Function to get nearest neighbors for a user\n",
    "def get_nearest_neighbors(user_id):\n",
    "    user_vector = interactions_knn_scaled.loc[interactions_knn['user_id'] == user_id].drop('user_id', axis=1).values.flatten()\n",
    "    distances, neighbors = knn.kneighbors([user_vector])\n",
    "\n",
    "  # Exclude the user itself from the neighbors list\n",
    "    nearest_neighbors = interactions_knn.iloc[neighbors[0][1:]].reset_index(drop=True)\n",
    "    nearest_neighbors['item_id_list'] = nearest_neighbors['item_id'].tolist()\n",
    "    del nearest_neighbors['item_id']\n",
    "\n",
    "    return nearest_neighbors[['user_id', 'item_id_list']].iloc[0].to_dict()\n",
    "\n",
    "# Create a new DataFrame to store results\n",
    "user_neighbors_df = pd.DataFrame(columns=['user_id', 'item_id'])\n",
    "\n",
    "# Initialize an empty DataFrame outside the loop\n",
    "for user_id in interactions_knn['user_id'].unique():\n",
    "    neighbor_data = get_nearest_neighbors(user_id)\n",
    "    # Check if user_neighbors_df is empty before appending\n",
    "    if user_neighbors_df.empty:\n",
    "        user_neighbors_df = neighbor_data.copy()  # Use copy to avoid reference issues\n",
    "    else:\n",
    "        user_neighbors_df = pd.concat([user_neighbors_df, neighbor_data], ignore_index=True)\n",
    "\n",
    "print(user_neighbors_df)    "
   ]
  },
  {
   "cell_type": "code",
   "execution_count": null,
   "id": "f0293913",
   "metadata": {},
   "outputs": [],
   "source": [
    "The last block of code does not work for unknown reasons, but the idea is correct"
   ]
  },
  {
   "cell_type": "code",
   "execution_count": null,
   "id": "556a2974",
   "metadata": {},
   "outputs": [],
   "source": []
  },
  {
   "cell_type": "code",
   "execution_count": null,
   "id": "1a2cb904",
   "metadata": {},
   "outputs": [],
   "source": []
  }
 ],
 "metadata": {
  "kernelspec": {
   "display_name": "Python 3 (ipykernel)",
   "language": "python",
   "name": "python3"
  },
  "language_info": {
   "codemirror_mode": {
    "name": "ipython",
    "version": 3
   },
   "file_extension": ".py",
   "mimetype": "text/x-python",
   "name": "python",
   "nbconvert_exporter": "python",
   "pygments_lexer": "ipython3",
   "version": "3.11.5"
  }
 },
 "nbformat": 4,
 "nbformat_minor": 5
}
